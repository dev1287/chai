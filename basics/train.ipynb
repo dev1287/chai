{
 "cells": [
  {
   "cell_type": "code",
   "execution_count": 1,
   "metadata": {},
   "outputs": [],
   "source": [
    "import random"
   ]
  },
  {
   "cell_type": "markdown",
   "metadata": {},
   "source": [
    "below random shows any one from given choices"
   ]
  },
  {
   "cell_type": "code",
   "execution_count": 7,
   "metadata": {},
   "outputs": [
    {
     "data": {
      "text/plain": [
       "2"
      ]
     },
     "execution_count": 7,
     "metadata": {},
     "output_type": "execute_result"
    }
   ],
   "source": [
    "random.choice([1,2,3])"
   ]
  },
  {
   "cell_type": "code",
   "execution_count": 17,
   "metadata": {},
   "outputs": [
    {
     "name": "stdout",
     "output_type": "stream",
     "text": [
      "r\n"
     ]
    },
    {
     "data": {
      "text/plain": [
       "'a'"
      ]
     },
     "execution_count": 17,
     "metadata": {},
     "output_type": "execute_result"
    }
   ],
   "source": [
    "username=\"raghu\"\n",
    "print(username[0])\n",
    "username[1]\n",
    "\n"
   ]
  },
  {
   "cell_type": "code",
   "execution_count": 18,
   "metadata": {},
   "outputs": [
    {
     "ename": "TypeError",
     "evalue": "'str' object does not support item assignment",
     "output_type": "error",
     "traceback": [
      "\u001b[1;31m---------------------------------------------------------------------------\u001b[0m",
      "\u001b[1;31mTypeError\u001b[0m                                 Traceback (most recent call last)",
      "Cell \u001b[1;32mIn[18], line 1\u001b[0m\n\u001b[1;32m----> 1\u001b[0m \u001b[43musername\u001b[49m\u001b[43m[\u001b[49m\u001b[38;5;241;43m0\u001b[39;49m\u001b[43m]\u001b[49m\u001b[38;5;241m=\u001b[39m\u001b[38;5;124m\"\u001b[39m\u001b[38;5;124mA\u001b[39m\u001b[38;5;124m\"\u001b[39m \u001b[38;5;66;03m#TypeError: 'str' object does not support item assignment   -- string are immutable\u001b[39;00m\n\u001b[0;32m      2\u001b[0m \u001b[38;5;28mprint\u001b[39m(username[\u001b[38;5;241m0\u001b[39m])\n",
      "\u001b[1;31mTypeError\u001b[0m: 'str' object does not support item assignment"
     ]
    }
   ],
   "source": [
    "username[0]=\"A\" #TypeError: 'str' object does not support item assignment   -- string are immutable\n",
    "print(username[0])"
   ]
  },
  {
   "cell_type": "code",
   "execution_count": 19,
   "metadata": {},
   "outputs": [
    {
     "data": {
      "text/plain": [
       "'u'"
      ]
     },
     "execution_count": 19,
     "metadata": {},
     "output_type": "execute_result"
    }
   ],
   "source": [
    "username[-1]"
   ]
  },
  {
   "cell_type": "code",
   "execution_count": 25,
   "metadata": {},
   "outputs": [
    {
     "name": "stdout",
     "output_type": "stream",
     "text": [
      "r\n",
      "rag\n",
      "raghu\n"
     ]
    }
   ],
   "source": [
    "print(username[0:1])\n",
    "print(username[:3])\n",
    "print(username[:5])"
   ]
  },
  {
   "cell_type": "code",
   "execution_count": 27,
   "metadata": {},
   "outputs": [
    {
     "data": {
      "text/plain": [
       "['__add__',\n",
       " '__class__',\n",
       " '__contains__',\n",
       " '__delattr__',\n",
       " '__dir__',\n",
       " '__doc__',\n",
       " '__eq__',\n",
       " '__format__',\n",
       " '__ge__',\n",
       " '__getattribute__',\n",
       " '__getitem__',\n",
       " '__getnewargs__',\n",
       " '__getstate__',\n",
       " '__gt__',\n",
       " '__hash__',\n",
       " '__init__',\n",
       " '__init_subclass__',\n",
       " '__iter__',\n",
       " '__le__',\n",
       " '__len__',\n",
       " '__lt__',\n",
       " '__mod__',\n",
       " '__mul__',\n",
       " '__ne__',\n",
       " '__new__',\n",
       " '__reduce__',\n",
       " '__reduce_ex__',\n",
       " '__repr__',\n",
       " '__rmod__',\n",
       " '__rmul__',\n",
       " '__setattr__',\n",
       " '__sizeof__',\n",
       " '__str__',\n",
       " '__subclasshook__',\n",
       " 'capitalize',\n",
       " 'casefold',\n",
       " 'center',\n",
       " 'count',\n",
       " 'encode',\n",
       " 'endswith',\n",
       " 'expandtabs',\n",
       " 'find',\n",
       " 'format',\n",
       " 'format_map',\n",
       " 'index',\n",
       " 'isalnum',\n",
       " 'isalpha',\n",
       " 'isascii',\n",
       " 'isdecimal',\n",
       " 'isdigit',\n",
       " 'isidentifier',\n",
       " 'islower',\n",
       " 'isnumeric',\n",
       " 'isprintable',\n",
       " 'isspace',\n",
       " 'istitle',\n",
       " 'isupper',\n",
       " 'join',\n",
       " 'ljust',\n",
       " 'lower',\n",
       " 'lstrip',\n",
       " 'maketrans',\n",
       " 'partition',\n",
       " 'removeprefix',\n",
       " 'removesuffix',\n",
       " 'replace',\n",
       " 'rfind',\n",
       " 'rindex',\n",
       " 'rjust',\n",
       " 'rpartition',\n",
       " 'rsplit',\n",
       " 'rstrip',\n",
       " 'split',\n",
       " 'splitlines',\n",
       " 'startswith',\n",
       " 'strip',\n",
       " 'swapcase',\n",
       " 'title',\n",
       " 'translate',\n",
       " 'upper',\n",
       " 'zfill']"
      ]
     },
     "execution_count": 27,
     "metadata": {},
     "output_type": "execute_result"
    }
   ],
   "source": [
    "dir(username)"
   ]
  },
  {
   "cell_type": "code",
   "execution_count": 30,
   "metadata": {},
   "outputs": [
    {
     "data": {
      "text/plain": [
       "['__cause__',\n",
       " '__class__',\n",
       " '__context__',\n",
       " '__delattr__',\n",
       " '__dict__',\n",
       " '__dir__',\n",
       " '__doc__',\n",
       " '__eq__',\n",
       " '__format__',\n",
       " '__ge__',\n",
       " '__getattribute__',\n",
       " '__getstate__',\n",
       " '__gt__',\n",
       " '__hash__',\n",
       " '__init__',\n",
       " '__init_subclass__',\n",
       " '__le__',\n",
       " '__lt__',\n",
       " '__ne__',\n",
       " '__new__',\n",
       " '__reduce__',\n",
       " '__reduce_ex__',\n",
       " '__repr__',\n",
       " '__setattr__',\n",
       " '__setstate__',\n",
       " '__sizeof__',\n",
       " '__str__',\n",
       " '__subclasshook__',\n",
       " '__suppress_context__',\n",
       " '__traceback__',\n",
       " 'add_note',\n",
       " 'args',\n",
       " 'with_traceback']"
      ]
     },
     "execution_count": 30,
     "metadata": {},
     "output_type": "execute_result"
    }
   ],
   "source": [
    "dir(UserWarning)"
   ]
  },
  {
   "cell_type": "code",
   "execution_count": null,
   "metadata": {},
   "outputs": [],
   "source": [
    "#help from pyrhon user dir methods"
   ]
  },
  {
   "cell_type": "markdown",
   "metadata": {},
   "source": [
    "below only last line is automatically printed all before must have print or else it is printing last only"
   ]
  },
  {
   "cell_type": "code",
   "execution_count": 34,
   "metadata": {},
   "outputs": [
    {
     "name": "stdout",
     "output_type": "stream",
     "text": [
      "3\n",
      "123\n"
     ]
    },
    {
     "data": {
      "text/plain": [
       "3.14"
      ]
     },
     "execution_count": 34,
     "metadata": {},
     "output_type": "execute_result"
    }
   ],
   "source": [
    "my_list=[123,\"chai\",3.14]\n",
    "print(len(my_list))\n",
    "print(my_list[0])\n",
    "my_list[-1]"
   ]
  },
  {
   "cell_type": "markdown",
   "metadata": {},
   "source": [
    "print in case sensitive Print will not work"
   ]
  },
  {
   "cell_type": "code",
   "execution_count": 36,
   "metadata": {},
   "outputs": [
    {
     "ename": "NameError",
     "evalue": "name 'Print' is not defined",
     "output_type": "error",
     "traceback": [
      "\u001b[1;31m---------------------------------------------------------------------------\u001b[0m",
      "\u001b[1;31mNameError\u001b[0m                                 Traceback (most recent call last)",
      "Cell \u001b[1;32mIn[36], line 1\u001b[0m\n\u001b[1;32m----> 1\u001b[0m \u001b[43mPrint\u001b[49m(my_list[\u001b[38;5;241m0\u001b[39m]) \u001b[38;5;66;03m#NameError: name 'Print' is not defined\u001b[39;00m\n",
      "\u001b[1;31mNameError\u001b[0m: name 'Print' is not defined"
     ]
    }
   ],
   "source": [
    "Print(my_list[0]) #NameError: name 'Print' is not defined\n"
   ]
  },
  {
   "cell_type": "code",
   "execution_count": 55,
   "metadata": {},
   "outputs": [
    {
     "name": "stdout",
     "output_type": "stream",
     "text": [
      "{'name': 'raghu'}\n"
     ]
    },
    {
     "data": {
      "text/plain": [
       "1"
      ]
     },
     "execution_count": 55,
     "metadata": {},
     "output_type": "execute_result"
    }
   ],
   "source": [
    "my_dict=dict(name=\"raghu\")\n",
    "print(my_dict)\n",
    "type(my_dict)\n",
    "len(my_dict)"
   ]
  },
  {
   "cell_type": "code",
   "execution_count": 50,
   "metadata": {},
   "outputs": [
    {
     "name": "stdout",
     "output_type": "stream",
     "text": [
      "fruit\n"
     ]
    },
    {
     "ename": "KeyError",
     "evalue": "'fruit'",
     "output_type": "error",
     "traceback": [
      "\u001b[1;31m---------------------------------------------------------------------------\u001b[0m",
      "\u001b[1;31mKeyError\u001b[0m                                  Traceback (most recent call last)",
      "Cell \u001b[1;32mIn[50], line 4\u001b[0m\n\u001b[0;32m      1\u001b[0m diction\u001b[38;5;241m=\u001b[39m{\u001b[38;5;124m\"\u001b[39m\u001b[38;5;124mone\u001b[39m\u001b[38;5;124m\"\u001b[39m:\u001b[38;5;124m\"\u001b[39m\u001b[38;5;124mfruit\u001b[39m\u001b[38;5;124m\"\u001b[39m,\u001b[38;5;124m\"\u001b[39m\u001b[38;5;124mtwo\u001b[39m\u001b[38;5;124m\"\u001b[39m:\u001b[38;5;124m\"\u001b[39m\u001b[38;5;124mlemon\u001b[39m\u001b[38;5;124m\"\u001b[39m,\u001b[38;5;124m\"\u001b[39m\u001b[38;5;124mthree\u001b[39m\u001b[38;5;124m\"\u001b[39m:\u001b[38;5;124m\"\u001b[39m\u001b[38;5;124mking\u001b[39m\u001b[38;5;124m\"\u001b[39m}\n\u001b[0;32m      2\u001b[0m \u001b[38;5;28mprint\u001b[39m(diction[\u001b[38;5;124m'\u001b[39m\u001b[38;5;124mone\u001b[39m\u001b[38;5;124m'\u001b[39m])\n\u001b[1;32m----> 4\u001b[0m \u001b[38;5;28mprint\u001b[39m(\u001b[43mdiction\u001b[49m\u001b[43m[\u001b[49m\u001b[38;5;124;43m'\u001b[39;49m\u001b[38;5;124;43mfruit\u001b[39;49m\u001b[38;5;124;43m'\u001b[39;49m\u001b[43m]\u001b[49m)  \u001b[38;5;66;03m#key error\u001b[39;00m\n",
      "\u001b[1;31mKeyError\u001b[0m: 'fruit'"
     ]
    }
   ],
   "source": [
    "diction={\"one\":\"fruit\",\"two\":\"lemon\",\"three\":\"king\"}\n",
    "print(diction['one'])\n",
    "\n",
    "print(diction['fruit'])  #key error"
   ]
  },
  {
   "cell_type": "code",
   "execution_count": 54,
   "metadata": {},
   "outputs": [
    {
     "name": "stdout",
     "output_type": "stream",
     "text": [
      "1\n"
     ]
    },
    {
     "data": {
      "text/plain": [
       "3"
      ]
     },
     "execution_count": 54,
     "metadata": {},
     "output_type": "execute_result"
    }
   ],
   "source": [
    "mytuples=(1,2,3)\n",
    "print(mytuples[0])\n",
    "len(mytuples)"
   ]
  },
  {
   "cell_type": "markdown",
   "metadata": {},
   "source": [
    "python will treat numbers and strings differently than others\n",
    "\n",
    "suppose first we assign id =5, the reference of id 5 is stored in memory, once id is deleted the refernce 5 will be deleted by python garbage collector"
   ]
  },
  {
   "cell_type": "code",
   "execution_count": 56,
   "metadata": {},
   "outputs": [],
   "source": [
    "import sys"
   ]
  },
  {
   "cell_type": "code",
   "execution_count": 57,
   "metadata": {},
   "outputs": [
    {
     "data": {
      "text/plain": [
       "3"
      ]
     },
     "execution_count": 57,
     "metadata": {},
     "output_type": "execute_result"
    }
   ],
   "source": [
    "sys.getrefcount(24601)"
   ]
  },
  {
   "cell_type": "code",
   "execution_count": 58,
   "metadata": {},
   "outputs": [
    {
     "data": {
      "text/plain": [
       "4294967295"
      ]
     },
     "execution_count": 58,
     "metadata": {},
     "output_type": "execute_result"
    }
   ],
   "source": [
    "sys.getrefcount('raghu')"
   ]
  },
  {
   "cell_type": "code",
   "execution_count": 59,
   "metadata": {},
   "outputs": [
    {
     "data": {
      "text/plain": [
       "4294967295"
      ]
     },
     "execution_count": 59,
     "metadata": {},
     "output_type": "execute_result"
    }
   ],
   "source": [
    "sys.getrefcount('M')"
   ]
  },
  {
   "cell_type": "markdown",
   "metadata": {},
   "source": [
    "above both reference count will be zero"
   ]
  },
  {
   "cell_type": "code",
   "execution_count": 60,
   "metadata": {},
   "outputs": [
    {
     "data": {
      "text/plain": [
       "4294967295"
      ]
     },
     "execution_count": 60,
     "metadata": {},
     "output_type": "execute_result"
    }
   ],
   "source": [
    "sys.getrefcount(3)"
   ]
  },
  {
   "cell_type": "code",
   "execution_count": 1,
   "metadata": {},
   "outputs": [
    {
     "name": "stdout",
     "output_type": "stream",
     "text": [
      "3\n"
     ]
    }
   ],
   "source": [
    "a=3\n",
    "print(a)"
   ]
  },
  {
   "cell_type": "code",
   "execution_count": 2,
   "metadata": {},
   "outputs": [
    {
     "name": "stdout",
     "output_type": "stream",
     "text": [
      "chai\n"
     ]
    }
   ],
   "source": [
    "a=\"chai\"\n",
    "print(a)"
   ]
  },
  {
   "cell_type": "markdown",
   "metadata": {},
   "source": [
    "we may thinks that garbage collector will collect 3 immedeately but no it will not collect immedieately, it will give some time so that we may use reference anytime anywhere in future for numbers and strings for saving computation power. so for only numbers and strings this will take some time to remove"
   ]
  },
  {
   "cell_type": "code",
   "execution_count": 3,
   "metadata": {},
   "outputs": [
    {
     "name": "stdout",
     "output_type": "stream",
     "text": [
      "7\n"
     ]
    }
   ],
   "source": [
    "a=5\n",
    "b=2\n",
    "a = a + 2\n",
    "print(a)"
   ]
  },
  {
   "cell_type": "markdown",
   "metadata": {},
   "source": [
    "now in above the value of a is changed/references to 7 from 5 "
   ]
  },
  {
   "cell_type": "code",
   "execution_count": 19,
   "metadata": {},
   "outputs": [
    {
     "name": "stdout",
     "output_type": "stream",
     "text": [
      "[1, 2, 3]\n",
      "[1, 2, 3]\n",
      "--------mylistone = 'chai'-------------------\n",
      "chai\n",
      "[1, 2, 3]\n",
      "new------------mylistone = [1,2,3]---------------\n",
      "[1, 2, 3, 4]\n",
      "[1, 2, 3]\n",
      "new--------------mylistone[0]=33-------------\n",
      "[33, 2, 3, 4]\n",
      "[1, 2, 3]\n"
     ]
    }
   ],
   "source": [
    "mylistone = [1,2,3]\n",
    "mylisttwo = mylistone\n",
    "print(mylistone)\n",
    "print(mylisttwo)\n",
    "print(\"--------mylistone = 'chai'-------------------\")\n",
    "mylistone = 'chai'\n",
    "print(mylistone)\n",
    "print(mylisttwo)\n",
    "print(\"new------------mylistone = [1,2,3]---------------\")\n",
    "mylistone = [1,2,3,4]\n",
    "print(mylistone)\n",
    "print(mylisttwo)\n",
    "print(\"new--------------mylistone[0]=33-------------\")\n",
    "mylistone[0]=33\n",
    "print(mylistone)\n",
    "print(mylisttwo)"
   ]
  },
  {
   "cell_type": "code",
   "execution_count": 34,
   "metadata": {},
   "outputs": [
    {
     "name": "stdout",
     "output_type": "stream",
     "text": [
      "[1, 2, 3]\n",
      "[1, 2, 3]\n",
      "------------------------------------------------------------\n",
      "[44, 2, 3]\n",
      "[44, 2, 3]\n",
      "Memory reference of h11: 1872619531200\n",
      "Memory reference of h12: 1872619531200\n",
      "------------------------------------------------------------\n"
     ]
    }
   ],
   "source": [
    "l1=[1,2,3]\n",
    "l2=l1\n",
    "print(l1)\n",
    "print(l2)\n",
    "print(\"------------------------------------------------------------\")\n",
    "l1[0]=44\n",
    "print(l1)\n",
    "print(l2)\n",
    "print(\"Memory reference of h11:\", id(l1))\n",
    "print(\"Memory reference of h12:\", id(l2))\n",
    "print(\"------------------------------------------------------------\")\n",
    "\n",
    "\n",
    "\n",
    "\n"
   ]
  },
  {
   "cell_type": "markdown",
   "metadata": {},
   "source": [
    "in slicing we copy does not reference"
   ]
  },
  {
   "cell_type": "code",
   "execution_count": 27,
   "metadata": {},
   "outputs": [
    {
     "name": "stdout",
     "output_type": "stream",
     "text": [
      "--------------------------------\n",
      "[1, 2, 3]\n",
      "[1, 2, 3]\n",
      "--------------------------------\n",
      "[55, 2, 3]\n",
      "[1, 2, 3]\n"
     ]
    }
   ],
   "source": [
    "h1=[1,2,3]\n",
    "h2slice=h1[:]\n",
    "print(\"--------------------------------\")\n",
    "print(h1)\n",
    "print(h2slice)\n",
    "print(\"--------------------------------\")\n",
    "h1[0]=55\n",
    "print(h1)\n",
    "print(h2slice)\n"
   ]
  },
  {
   "cell_type": "markdown",
   "metadata": {},
   "source": [
    "instead using copy command we can use above substring, below copy and substring both create shallow copy"
   ]
  },
  {
   "cell_type": "code",
   "execution_count": 31,
   "metadata": {},
   "outputs": [
    {
     "name": "stdout",
     "output_type": "stream",
     "text": [
      "[1, 2, 3]\n",
      "[1, 2, 3]\n",
      "Memory reference of h11: 1872619404352\n",
      "Memory reference of h12: 1872619246592\n"
     ]
    }
   ],
   "source": [
    "h11=[1,2,3]\n",
    "import copy\n",
    "h12 = copy.copy(h11)\n",
    "print(h11)\n",
    "print(h12)\n",
    "\n"
   ]
  },
  {
   "cell_type": "code",
   "execution_count": 33,
   "metadata": {},
   "outputs": [
    {
     "name": "stdout",
     "output_type": "stream",
     "text": [
      "Memory reference of h11: 1872619404352\n",
      "Memory reference of h12: 1872619246592\n",
      "Memory reference of h11: 1872619191168\n",
      "Memory reference of h12: 1872619183936\n"
     ]
    }
   ],
   "source": [
    "print(\"Memory reference of h11:\", id(h11))\n",
    "print(\"Memory reference of h12:\", id(h12))\n",
    "print(\"Memory reference of h11:\", id(h1))\n",
    "print(\"Memory reference of h12:\", id(h2slice))"
   ]
  },
  {
   "cell_type": "markdown",
   "metadata": {},
   "source": [
    "shallow copy will copy only top level list, nested lists are reference of original, changing nested list will also change in shallowcopy\n",
    "\n",
    "\n",
    "deepcopy will copy the nested elements also will not effect if value change sin nested also, it will create new objects in memory"
   ]
  },
  {
   "cell_type": "code",
   "execution_count": 50,
   "metadata": {},
   "outputs": [
    {
     "name": "stdout",
     "output_type": "stream",
     "text": [
      "[1, [1, 2, [1, 2, 3, 'c'], 'b'], 'a']\n",
      "[1, [1, 2, [1, 2, 3, 'c'], 'b'], 'a']\n",
      "[1, [1, 2, [1, 2, 3, 'c'], 'b'], 'a']\n",
      "Memory reference of maincopy: 1872619693440\n",
      "Memory reference of shallowcopy: 1872618949760\n",
      "Memory reference of deepcopy: 1872620291136\n",
      "[1, [1, 2, [1, 2, 3, 4], 'b'], 'a']\n",
      "[1, [1, 2, [1, 2, 3, 4], 'b'], 'a']\n",
      "[1, [1, 2, [1, 2, 3, 'c'], 'b'], 'a']\n"
     ]
    }
   ],
   "source": [
    "maincopy=[1,[1,2,[1,2,3,\"c\"],'b'],\"a\"]\n",
    "shallowcopy= copy.copy(maincopy)\n",
    "deepcopy=copy.deepcopy(maincopy)\n",
    "print(maincopy)\n",
    "print(shallowcopy)\n",
    "print(deepcopy)\n",
    "print(\"Memory reference of maincopy:\", id(maincopy))\n",
    "print(\"Memory reference of shallowcopy:\", id(shallowcopy))\n",
    "print(\"Memory reference of deepcopy:\", id(deepcopy))\n",
    "maincopy[1][2][3] = 4\n",
    "print(maincopy)\n",
    "print(shallowcopy)\n",
    "print(deepcopy)\n"
   ]
  },
  {
   "cell_type": "markdown",
   "metadata": {},
   "source": [
    "is will check memeory reference"
   ]
  },
  {
   "cell_type": "code",
   "execution_count": 49,
   "metadata": {},
   "outputs": [
    {
     "name": "stdout",
     "output_type": "stream",
     "text": [
      "True\n",
      "True\n",
      "Memory reference of deepcopy: 1872620334208\n",
      "Memory reference of deepcopy: 1872620334208\n",
      "---------------------------------------------------\n",
      "Memory reference of deepcopy: 1872620334208\n",
      "Memory reference of deepcopy: 1872619397248\n",
      "True\n",
      "False\n"
     ]
    }
   ],
   "source": [
    "m = [1,2,3]\n",
    "n= m\n",
    "print(m == n)\n",
    "print(m is n)\n",
    "print(\"Memory reference of deepcopy:\", id(m))\n",
    "print(\"Memory reference of deepcopy:\", id(n))\n",
    "print(\"---------------------------------------------------\")\n",
    "n = [1,2,3]\n",
    "print(\"Memory reference of deepcopy:\", id(m))\n",
    "print(\"Memory reference of deepcopy:\", id(n))\n",
    "print(m == n)\n",
    "print(m is n)\n",
    "\n"
   ]
  },
  {
   "cell_type": "markdown",
   "metadata": {},
   "source": [
    "precesion table pemdas\n",
    "X + Y * Z will give issues and code rejected in testing\n",
    "(X + Y) * Z <-------------precision is important"
   ]
  },
  {
   "cell_type": "markdown",
   "metadata": {},
   "source": [
    "below is called operator overloading"
   ]
  },
  {
   "cell_type": "code",
   "execution_count": 51,
   "metadata": {},
   "outputs": [
    {
     "data": {
      "text/plain": [
       "'chaicode'"
      ]
     },
     "execution_count": 51,
     "metadata": {},
     "output_type": "execute_result"
    }
   ],
   "source": [
    "'chai' + 'code'"
   ]
  },
  {
   "cell_type": "code",
   "execution_count": 52,
   "metadata": {},
   "outputs": [],
   "source": [
    "x=5\n",
    "y=6\n",
    "z=7"
   ]
  },
  {
   "cell_type": "code",
   "execution_count": 56,
   "metadata": {},
   "outputs": [
    {
     "name": "stdout",
     "output_type": "stream",
     "text": [
      "5 6 7\n",
      "6 12\n"
     ]
    }
   ],
   "source": [
    "print(x,y,z) #tuple\n",
    "print(x + 1, y*2)"
   ]
  },
  {
   "cell_type": "markdown",
   "metadata": {},
   "source": [
    "Here, str(num) returns '42', which is a straightforward string representation of the integer 42.\n",
    "\n"
   ]
  },
  {
   "cell_type": "code",
   "execution_count": 62,
   "metadata": {},
   "outputs": [
    {
     "data": {
      "text/plain": [
       "'0.3333333333333333'"
      ]
     },
     "execution_count": 62,
     "metadata": {},
     "output_type": "execute_result"
    }
   ],
   "source": [
    "result = 1/3.0\n",
    "str(result)\n"
   ]
  },
  {
   "cell_type": "markdown",
   "metadata": {},
   "source": []
  },
  {
   "cell_type": "markdown",
   "metadata": {},
   "source": [
    "Here, repr(num) returns '42', which is the string representation of the integer 42.\n",
    "\n"
   ]
  },
  {
   "cell_type": "code",
   "execution_count": 61,
   "metadata": {},
   "outputs": [
    {
     "data": {
      "text/plain": [
       "'0.3333333333333333'"
      ]
     },
     "execution_count": 61,
     "metadata": {},
     "output_type": "execute_result"
    }
   ],
   "source": [
    "repr(result)\n"
   ]
  },
  {
   "cell_type": "code",
   "execution_count": 63,
   "metadata": {},
   "outputs": [
    {
     "data": {
      "text/plain": [
       "False"
      ]
     },
     "execution_count": 63,
     "metadata": {},
     "output_type": "execute_result"
    }
   ],
   "source": [
    "1 == 2 and 2 < 3"
   ]
  },
  {
   "cell_type": "code",
   "execution_count": 64,
   "metadata": {},
   "outputs": [
    {
     "data": {
      "text/plain": [
       "True"
      ]
     },
     "execution_count": 64,
     "metadata": {},
     "output_type": "execute_result"
    }
   ],
   "source": [
    "1 == 2 or 2 < 3"
   ]
  },
  {
   "cell_type": "markdown",
   "metadata": {},
   "source": [
    "fllor gives lowest value"
   ]
  },
  {
   "cell_type": "code",
   "execution_count": 67,
   "metadata": {},
   "outputs": [
    {
     "data": {
      "text/plain": [
       "3"
      ]
     },
     "execution_count": 67,
     "metadata": {},
     "output_type": "execute_result"
    }
   ],
   "source": [
    "import math\n",
    "math.floor(3.9)"
   ]
  },
  {
   "cell_type": "code",
   "execution_count": 68,
   "metadata": {},
   "outputs": [
    {
     "data": {
      "text/plain": [
       "-4"
      ]
     },
     "execution_count": 68,
     "metadata": {},
     "output_type": "execute_result"
    }
   ],
   "source": [
    "math.floor(-3.5)"
   ]
  },
  {
   "cell_type": "markdown",
   "metadata": {},
   "source": [
    "trunc will take towards zero"
   ]
  },
  {
   "cell_type": "code",
   "execution_count": 69,
   "metadata": {},
   "outputs": [
    {
     "data": {
      "text/plain": [
       "2"
      ]
     },
     "execution_count": 69,
     "metadata": {},
     "output_type": "execute_result"
    }
   ],
   "source": [
    "math.trunc(2.8)"
   ]
  },
  {
   "cell_type": "code",
   "execution_count": 70,
   "metadata": {},
   "outputs": [
    {
     "data": {
      "text/plain": [
       "-2"
      ]
     },
     "execution_count": 70,
     "metadata": {},
     "output_type": "execute_result"
    }
   ],
   "source": [
    "math.trunc(-2.8)"
   ]
  },
  {
   "cell_type": "markdown",
   "metadata": {},
   "source": [
    "we can handle below situation in python num * float will give very long but still we can show in full "
   ]
  },
  {
   "cell_type": "code",
   "execution_count": 71,
   "metadata": {},
   "outputs": [
    {
     "data": {
      "text/plain": [
       "2.1e+28"
      ]
     },
     "execution_count": 71,
     "metadata": {},
     "output_type": "execute_result"
    }
   ],
   "source": [
    "9999999999999999999999999999 * 2.1\n"
   ]
  },
  {
   "cell_type": "code",
   "execution_count": 72,
   "metadata": {},
   "outputs": [
    {
     "data": {
      "text/plain": [
       "1606938044258990275541962092341162602522202993782792835301376"
      ]
     },
     "execution_count": 72,
     "metadata": {},
     "output_type": "execute_result"
    }
   ],
   "source": [
    "2 ** 200"
   ]
  },
  {
   "cell_type": "markdown",
   "metadata": {},
   "source": [
    "complex numbers like below"
   ]
  },
  {
   "cell_type": "code",
   "execution_count": 75,
   "metadata": {},
   "outputs": [
    {
     "data": {
      "text/plain": [
       "(6+3j)"
      ]
     },
     "execution_count": 75,
     "metadata": {},
     "output_type": "execute_result"
    }
   ],
   "source": [
    "2 + 1j * 3\n",
    "(2 + 1j) * 3"
   ]
  },
  {
   "cell_type": "markdown",
   "metadata": {},
   "source": [
    "octal literal base to the 8 "
   ]
  },
  {
   "cell_type": "code",
   "execution_count": 76,
   "metadata": {},
   "outputs": [
    {
     "data": {
      "text/plain": [
       "16"
      ]
     },
     "execution_count": 76,
     "metadata": {},
     "output_type": "execute_result"
    }
   ],
   "source": [
    "0o20"
   ]
  },
  {
   "cell_type": "markdown",
   "metadata": {},
   "source": [
    "xeral literal"
   ]
  },
  {
   "cell_type": "code",
   "execution_count": 77,
   "metadata": {},
   "outputs": [
    {
     "data": {
      "text/plain": [
       "255"
      ]
     },
     "execution_count": 77,
     "metadata": {},
     "output_type": "execute_result"
    }
   ],
   "source": [
    "0xff"
   ]
  },
  {
   "cell_type": "markdown",
   "metadata": {},
   "source": [
    "binary literals"
   ]
  },
  {
   "cell_type": "code",
   "execution_count": 78,
   "metadata": {},
   "outputs": [
    {
     "data": {
      "text/plain": [
       "8"
      ]
     },
     "execution_count": 78,
     "metadata": {},
     "output_type": "execute_result"
    }
   ],
   "source": [
    "0b1000"
   ]
  },
  {
   "cell_type": "code",
   "execution_count": 79,
   "metadata": {},
   "outputs": [
    {
     "data": {
      "text/plain": [
       "'0o100'"
      ]
     },
     "execution_count": 79,
     "metadata": {},
     "output_type": "execute_result"
    }
   ],
   "source": [
    "oct(64)"
   ]
  },
  {
   "cell_type": "code",
   "execution_count": 80,
   "metadata": {},
   "outputs": [
    {
     "data": {
      "text/plain": [
       "'0x40'"
      ]
     },
     "execution_count": 80,
     "metadata": {},
     "output_type": "execute_result"
    }
   ],
   "source": [
    "hex(64)"
   ]
  },
  {
   "cell_type": "code",
   "execution_count": 81,
   "metadata": {},
   "outputs": [
    {
     "data": {
      "text/plain": [
       "'0b1000000'"
      ]
     },
     "execution_count": 81,
     "metadata": {},
     "output_type": "execute_result"
    }
   ],
   "source": [
    "bin(64)"
   ]
  },
  {
   "cell_type": "code",
   "execution_count": 82,
   "metadata": {},
   "outputs": [
    {
     "data": {
      "text/plain": [
       "64"
      ]
     },
     "execution_count": 82,
     "metadata": {},
     "output_type": "execute_result"
    }
   ],
   "source": [
    "int(64)"
   ]
  },
  {
   "cell_type": "code",
   "execution_count": 84,
   "metadata": {},
   "outputs": [
    {
     "data": {
      "text/plain": [
       "52"
      ]
     },
     "execution_count": 84,
     "metadata": {},
     "output_type": "execute_result"
    }
   ],
   "source": [
    "int('64' ,8)"
   ]
  },
  {
   "cell_type": "markdown",
   "metadata": {},
   "source": [
    "Bitwise left shift operations are commonly used in scenarios where you need to multiply or divide numbers by powers of two efficiently, especially in low-level programming or optimization tasks.\n",
    "x = 1: This assigns the integer value 1 to the variable x.\n",
    "Bitwise Left Shift (<<):\n",
    "\n",
    "x << 2: This expression shifts the bits of x two positions to the left.\n",
    "In binary representation, 1 is 0001. Shifting 0001 two positions to the left results in 0100.\n",
    "Therefore, the result of x << 2 is 4 in decimal."
   ]
  },
  {
   "cell_type": "code",
   "execution_count": 88,
   "metadata": {},
   "outputs": [
    {
     "data": {
      "text/plain": [
       "8"
      ]
     },
     "execution_count": 88,
     "metadata": {},
     "output_type": "execute_result"
    }
   ],
   "source": [
    "x=1\n",
    "x << 2"
   ]
  },
  {
   "cell_type": "markdown",
   "metadata": {},
   "source": [
    "random"
   ]
  },
  {
   "cell_type": "code",
   "execution_count": 90,
   "metadata": {},
   "outputs": [
    {
     "data": {
      "text/plain": [
       "0.44785767935920673"
      ]
     },
     "execution_count": 90,
     "metadata": {},
     "output_type": "execute_result"
    }
   ],
   "source": [
    "import random\n",
    "random.random()"
   ]
  },
  {
   "cell_type": "markdown",
   "metadata": {},
   "source": [
    "random integer"
   ]
  },
  {
   "cell_type": "code",
   "execution_count": 96,
   "metadata": {},
   "outputs": [
    {
     "data": {
      "text/plain": [
       "6"
      ]
     },
     "execution_count": 96,
     "metadata": {},
     "output_type": "execute_result"
    }
   ],
   "source": [
    "random.randint(1, 10)"
   ]
  },
  {
   "cell_type": "code",
   "execution_count": 113,
   "metadata": {},
   "outputs": [
    {
     "data": {
      "text/plain": [
       "'ginger'"
      ]
     },
     "execution_count": 113,
     "metadata": {},
     "output_type": "execute_result"
    }
   ],
   "source": [
    "l1 = ['lemon','masala','ginger','tandoori']\n",
    "random.choice(l1)"
   ]
  },
  {
   "cell_type": "markdown",
   "metadata": {},
   "source": [
    "shuffle"
   ]
  },
  {
   "cell_type": "code",
   "execution_count": 125,
   "metadata": {},
   "outputs": [
    {
     "data": {
      "text/plain": [
       "['lemon', 'ginger', 'masala', 'tandoori']"
      ]
     },
     "execution_count": 125,
     "metadata": {},
     "output_type": "execute_result"
    }
   ],
   "source": [
    "random.shuffle(l1)\n",
    "l1\n"
   ]
  },
  {
   "cell_type": "markdown",
   "metadata": {},
   "source": [
    "add decimal values, last 2 are not output we are expecting"
   ]
  },
  {
   "cell_type": "code",
   "execution_count": 133,
   "metadata": {},
   "outputs": [
    {
     "name": "stdout",
     "output_type": "stream",
     "text": [
      "0.30000000000000004\n",
      "5.551115123125783e-17\n"
     ]
    },
    {
     "data": {
      "text/plain": [
       "5.551115123125783e-17"
      ]
     },
     "execution_count": 133,
     "metadata": {},
     "output_type": "execute_result"
    }
   ],
   "source": [
    "print(0.1+0.1+0.1)\n",
    "print(0.1+0.1+0.1-0.3)\n",
    "(0.1 + 0.1 + 0.1) - 0.3"
   ]
  },
  {
   "cell_type": "markdown",
   "metadata": {},
   "source": [
    "below are correct"
   ]
  },
  {
   "cell_type": "code",
   "execution_count": 135,
   "metadata": {},
   "outputs": [
    {
     "data": {
      "text/plain": [
       "Decimal('0.3')"
      ]
     },
     "execution_count": 135,
     "metadata": {},
     "output_type": "execute_result"
    }
   ],
   "source": [
    "from decimal import Decimal\n",
    "Decimal('0.1')+Decimal('0.1')+Decimal('0.1')"
   ]
  },
  {
   "cell_type": "code",
   "execution_count": 137,
   "metadata": {},
   "outputs": [
    {
     "data": {
      "text/plain": [
       "Decimal('0.0')"
      ]
     },
     "execution_count": 137,
     "metadata": {},
     "output_type": "execute_result"
    }
   ],
   "source": [
    "Decimal('0.1')+Decimal('0.1')+Decimal('0.1')-Decimal('0.3')"
   ]
  },
  {
   "cell_type": "code",
   "execution_count": 138,
   "metadata": {},
   "outputs": [],
   "source": [
    "from fractions import Fraction"
   ]
  },
  {
   "cell_type": "code",
   "execution_count": 140,
   "metadata": {},
   "outputs": [
    {
     "data": {
      "text/plain": [
       "Fraction(2, 7)"
      ]
     },
     "execution_count": 140,
     "metadata": {},
     "output_type": "execute_result"
    }
   ],
   "source": [
    "myfra = Fraction(2, 7)\n",
    "myfra"
   ]
  },
  {
   "cell_type": "code",
   "execution_count": 142,
   "metadata": {},
   "outputs": [
    {
     "data": {
      "text/plain": [
       "{1, 3}"
      ]
     },
     "execution_count": 142,
     "metadata": {},
     "output_type": "execute_result"
    }
   ],
   "source": [
    "setone = {1,2,3,4}\n",
    "setone & {1,3}"
   ]
  },
  {
   "cell_type": "code",
   "execution_count": 145,
   "metadata": {},
   "outputs": [
    {
     "data": {
      "text/plain": [
       "{1, 2, 3, 4, 9}"
      ]
     },
     "execution_count": 145,
     "metadata": {},
     "output_type": "execute_result"
    }
   ],
   "source": [
    "setone | {1,3,9}"
   ]
  },
  {
   "cell_type": "code",
   "execution_count": 144,
   "metadata": {},
   "outputs": [
    {
     "data": {
      "text/plain": [
       "set()"
      ]
     },
     "execution_count": 144,
     "metadata": {},
     "output_type": "execute_result"
    }
   ],
   "source": [
    "setone - {1,2,3,4}"
   ]
  },
  {
   "cell_type": "markdown",
   "metadata": {},
   "source": [
    "empty parathesis is dictionary so we get set in above"
   ]
  },
  {
   "cell_type": "code",
   "execution_count": 146,
   "metadata": {},
   "outputs": [
    {
     "data": {
      "text/plain": [
       "dict"
      ]
     },
     "execution_count": 146,
     "metadata": {},
     "output_type": "execute_result"
    }
   ],
   "source": [
    "type({})"
   ]
  },
  {
   "cell_type": "code",
   "execution_count": 148,
   "metadata": {},
   "outputs": [
    {
     "data": {
      "text/plain": [
       "True"
      ]
     },
     "execution_count": 148,
     "metadata": {},
     "output_type": "execute_result"
    }
   ],
   "source": [
    "True == 1"
   ]
  },
  {
   "cell_type": "code",
   "execution_count": 149,
   "metadata": {},
   "outputs": [
    {
     "name": "stderr",
     "output_type": "stream",
     "text": [
      "<>:1: SyntaxWarning: \"is\" with 'int' literal. Did you mean \"==\"?\n",
      "<>:1: SyntaxWarning: \"is\" with 'int' literal. Did you mean \"==\"?\n",
      "C:\\Users\\ragha\\AppData\\Local\\Temp\\ipykernel_23028\\812578685.py:1: SyntaxWarning: \"is\" with 'int' literal. Did you mean \"==\"?\n",
      "  True is 1\n"
     ]
    },
    {
     "data": {
      "text/plain": [
       "False"
      ]
     },
     "execution_count": 149,
     "metadata": {},
     "output_type": "execute_result"
    }
   ],
   "source": [
    "True is 1"
   ]
  },
  {
   "cell_type": "code",
   "execution_count": 150,
   "metadata": {},
   "outputs": [
    {
     "data": {
      "text/plain": [
       "True"
      ]
     },
     "execution_count": 150,
     "metadata": {},
     "output_type": "execute_result"
    }
   ],
   "source": [
    "False == 0"
   ]
  },
  {
   "cell_type": "code",
   "execution_count": 151,
   "metadata": {},
   "outputs": [
    {
     "data": {
      "text/plain": [
       "5"
      ]
     },
     "execution_count": 151,
     "metadata": {},
     "output_type": "execute_result"
    }
   ],
   "source": [
    "True + 4"
   ]
  },
  {
   "cell_type": "markdown",
   "metadata": {},
   "source": [
    "string"
   ]
  },
  {
   "cell_type": "code",
   "execution_count": 152,
   "metadata": {},
   "outputs": [],
   "source": [
    "chai = \"Masala Chai\""
   ]
  },
  {
   "cell_type": "code",
   "execution_count": 154,
   "metadata": {},
   "outputs": [
    {
     "data": {
      "text/plain": [
       "'M'"
      ]
     },
     "execution_count": 154,
     "metadata": {},
     "output_type": "execute_result"
    }
   ],
   "source": [
    "first_char = chai[0]\n",
    "first_char"
   ]
  },
  {
   "cell_type": "markdown",
   "metadata": {},
   "source": [
    "to print only masala"
   ]
  },
  {
   "cell_type": "code",
   "execution_count": 156,
   "metadata": {},
   "outputs": [
    {
     "data": {
      "text/plain": [
       "'Masala'"
      ]
     },
     "execution_count": 156,
     "metadata": {},
     "output_type": "execute_result"
    }
   ],
   "source": [
    "slice_chai = chai[0:6]\n",
    "slice_chai"
   ]
  },
  {
   "cell_type": "code",
   "execution_count": 176,
   "metadata": {},
   "outputs": [
    {
     "name": "stdout",
     "output_type": "stream",
     "text": [
      "Chai\n"
     ]
    }
   ],
   "source": [
    "slice_chai = chai[-4:]\n",
    "print(slice_chai)\n"
   ]
  },
  {
   "cell_type": "code",
   "execution_count": 177,
   "metadata": {},
   "outputs": [],
   "source": [
    "num_list = \"0123456789\""
   ]
  },
  {
   "cell_type": "code",
   "execution_count": 186,
   "metadata": {},
   "outputs": [
    {
     "name": "stdout",
     "output_type": "stream",
     "text": [
      "0123456789\n",
      "3456789\n",
      "0123456\n",
      "0246\n",
      "0369\n"
     ]
    }
   ],
   "source": [
    "print(num_list[:])\n",
    "print(num_list[3:])\n",
    "print(num_list[:7])\n",
    "print(num_list[0:7:2]) #hopping\n",
    "print(num_list[0::3])"
   ]
  },
  {
   "cell_type": "code",
   "execution_count": 188,
   "metadata": {},
   "outputs": [
    {
     "name": "stdout",
     "output_type": "stream",
     "text": [
      "MASALA CHAI\n",
      "masala chai\n"
     ]
    }
   ],
   "source": [
    "print(chai.upper())\n",
    "print(chai.lower())"
   ]
  },
  {
   "cell_type": "code",
   "execution_count": 191,
   "metadata": {},
   "outputs": [
    {
     "name": "stdout",
     "output_type": "stream",
     "text": [
      "  Masala Chai  \n",
      "Masala Chai\n"
     ]
    }
   ],
   "source": [
    "chai = \"  Masala Chai  \"\n",
    "print(chai)\n",
    "print(chai.strip()) #useful when we get input values from form"
   ]
  },
  {
   "cell_type": "code",
   "execution_count": 194,
   "metadata": {},
   "outputs": [
    {
     "name": "stdout",
     "output_type": "stream",
     "text": [
      "Ginger Chai\n",
      "Lemon Chai\n"
     ]
    }
   ],
   "source": [
    "chai = \"Lemon Chai\"\n",
    "print(chai.replace(\"Lemon\",\"Ginger\"))\n",
    "print(chai.replace(\"lemon\",\"Ginger\")) #not working"
   ]
  },
  {
   "cell_type": "code",
   "execution_count": 197,
   "metadata": {},
   "outputs": [
    {
     "name": "stdout",
     "output_type": "stream",
     "text": [
      "['Lemon,', 'Ginger,', 'Masala,', 'Mint']\n",
      "['Lemon', 'Ginger', 'Masala', 'Mint']\n"
     ]
    }
   ],
   "source": [
    "chai = \"Lemon, Ginger, Masala, Mint\"\n",
    "print(chai.split()) #takes spaces\n",
    "print(chai.split(\", \"))"
   ]
  },
  {
   "cell_type": "markdown",
   "metadata": {},
   "source": [
    "find"
   ]
  },
  {
   "cell_type": "code",
   "execution_count": 206,
   "metadata": {},
   "outputs": [
    {
     "name": "stdout",
     "output_type": "stream",
     "text": [
      "7\n",
      "-1\n",
      "0\n",
      "6\n"
     ]
    }
   ],
   "source": [
    "chai = \"Masala Chai\"\n",
    "print(chai.find(\"Chai\"))\n",
    "print(chai.find(\"chai\")) #case sensitive  if i do not find i will return -1\n",
    "print(chai.find(\"\")) # if nothing gives 0\n",
    "print(chai.find(\" \")) # as 6 is space"
   ]
  },
  {
   "cell_type": "code",
   "execution_count": 212,
   "metadata": {},
   "outputs": [
    {
     "name": "stdout",
     "output_type": "stream",
     "text": [
      "1\n",
      "2\n",
      "4\n"
     ]
    }
   ],
   "source": [
    "chai= \"Masala Chai chai Chai Chai Ginger Chai lemoN chai\"\n",
    "print(chai.count(chai))\n",
    "print(chai.count(\"chai\"))\n",
    "print(chai.count(\"Chai\"))"
   ]
  },
  {
   "cell_type": "code",
   "execution_count": 214,
   "metadata": {},
   "outputs": [
    {
     "name": "stdout",
     "output_type": "stream",
     "text": [
      "I ordered {} cups of {} chai\n",
      "I ordered 2 cups of Masala chai\n"
     ]
    }
   ],
   "source": [
    "chai_type = \"Masala\"\n",
    "quantity = 2\n",
    "order = \"I ordered {} cups of {} chai\"\n",
    "print(order)\n",
    "print(order.format(quantity, chai_type))"
   ]
  },
  {
   "cell_type": "code",
   "execution_count": 218,
   "metadata": {},
   "outputs": [
    {
     "name": "stdout",
     "output_type": "stream",
     "text": [
      "['Lemon', 'Masala', 'Ginger']\n",
      "LemonMasalaGinger\n",
      "Lemon Masala Ginger\n",
      "Lemon, -Masala, -Ginger\n"
     ]
    }
   ],
   "source": [
    "chai_variety =[\"Lemon\",\"Masala\",\"Ginger\"]\n",
    "print(chai_variety)\n",
    "print(\"\".join(chai_variety))\n",
    "print(\" \".join(chai_variety))\n",
    "print(\", -\".join(chai_variety))"
   ]
  },
  {
   "cell_type": "code",
   "execution_count": 219,
   "metadata": {},
   "outputs": [
    {
     "name": "stdout",
     "output_type": "stream",
     "text": [
      "11\n"
     ]
    }
   ],
   "source": [
    "chai = \"Masala Chai\"\n",
    "print(len(chai))\n"
   ]
  },
  {
   "cell_type": "code",
   "execution_count": 220,
   "metadata": {},
   "outputs": [
    {
     "name": "stdout",
     "output_type": "stream",
     "text": [
      "M\n",
      "a\n",
      "s\n",
      "a\n",
      "l\n",
      "a\n",
      " \n",
      "C\n",
      "h\n",
      "a\n",
      "i\n"
     ]
    }
   ],
   "source": [
    "for letter in chai:\n",
    "    print(letter)"
   ]
  },
  {
   "cell_type": "code",
   "execution_count": 226,
   "metadata": {},
   "outputs": [
    {
     "name": "stdout",
     "output_type": "stream",
     "text": [
      "He said, \"Masala chai is awesome\" \n",
      "He said, \"Masala chai is awesome\" \n"
     ]
    }
   ],
   "source": [
    "chai = 'He said, \"Masala chai is awesome\" '\n",
    "print(chai)\n",
    "chai = \"He said, \\\"Masala chai is awesome\\\" \" #keeping backslash will not convert to string\n",
    "print(chai)"
   ]
  },
  {
   "cell_type": "markdown",
   "metadata": {},
   "source": [
    "r string (raw string)"
   ]
  },
  {
   "cell_type": "code",
   "execution_count": 229,
   "metadata": {},
   "outputs": [
    {
     "name": "stdout",
     "output_type": "stream",
     "text": [
      "Masala\n",
      "Chai\n",
      "Masala\\nChai\n"
     ]
    }
   ],
   "source": [
    "chai = \"Masala\\nChai\"\n",
    "print(chai)\n",
    "chai_raw=r\"Masala\\nChai\"\n",
    "print(chai_raw)\n"
   ]
  },
  {
   "cell_type": "markdown",
   "metadata": {},
   "source": [
    "to find masala in chai string"
   ]
  },
  {
   "cell_type": "code",
   "execution_count": 230,
   "metadata": {},
   "outputs": [
    {
     "name": "stdout",
     "output_type": "stream",
     "text": [
      "True\n"
     ]
    }
   ],
   "source": [
    "print(\"Masala\" in chai)"
   ]
  },
  {
   "cell_type": "markdown",
   "metadata": {},
   "source": [
    "LIST"
   ]
  },
  {
   "cell_type": "code",
   "execution_count": 255,
   "metadata": {},
   "outputs": [
    {
     "name": "stdout",
     "output_type": "stream",
     "text": [
      "['Black', 'green', 'oolong', 'white']\n",
      "Black\n",
      "['green', 'oolong']\n",
      "['Black', 'green', 'oolong', 'Herbal']\n",
      "['Black', 'L', 'e', 'm', 'o', 'n', 'oolong', 'Herbal']\n",
      "['Black', 'Lemon', 'oolong', 'white']\n",
      "['Black', 'Masala', 'Tanddori', 'white']\n",
      "[]\n",
      "['Black', 'test1', 'test2', 'Masala', 'Tanddori', 'white']\n"
     ]
    }
   ],
   "source": [
    "tea_varities = [\"Black\",\"green\",\"oolong\",\"white\"]\n",
    "print(tea_varities)\n",
    "print(tea_varities[0])\n",
    "print(tea_varities[1:3])\n",
    "tea_varities[3]=\"Herbal\"\n",
    "print(tea_varities)\n",
    "tea_varities[1:2]=\"Lemon\" #it is treating string as array\n",
    "print(tea_varities)\n",
    "tea_varities = [\"Black\",\"green\",\"oolong\",\"white\"]\n",
    "tea_varities[1:2]=[\"Lemon\"] #we should give as array\n",
    "print(tea_varities)\n",
    "tea_varities[1:3]=[\"Masala\",\"Tanddori\"] #we should give as array\n",
    "print(tea_varities)\n",
    "print(tea_varities[1:1])\n",
    "tea_varities[1:1] = [\"test1\",\"test2\"]\n",
    "print(tea_varities)\n"
   ]
  },
  {
   "cell_type": "code",
   "execution_count": 259,
   "metadata": {},
   "outputs": [
    {
     "name": "stdout",
     "output_type": "stream",
     "text": [
      "['Black', 'white']\n",
      "['white']\n",
      "['Black']\n"
     ]
    }
   ],
   "source": [
    "print(tea_varities)\n",
    "print(tea_varities[1:3])\n",
    "tea_varities[1:3]=[]\n",
    "print(tea_varities)\n"
   ]
  },
  {
   "cell_type": "code",
   "execution_count": 264,
   "metadata": {},
   "outputs": [
    {
     "name": "stdout",
     "output_type": "stream",
     "text": [
      "['Black', 'Masala', 'Tanddori', 'white']\n",
      "Black\n",
      "Masala\n",
      "Tanddori\n",
      "white\n"
     ]
    }
   ],
   "source": [
    "tea_varitiy=[\"Black\", \"Masala\", \"Tanddori\", \"white\"]\n",
    "print(tea_varitiy)\n",
    "for tea in tea_varitiy:\n",
    "    print(tea)"
   ]
  },
  {
   "cell_type": "code",
   "execution_count": 265,
   "metadata": {},
   "outputs": [
    {
     "name": "stdout",
     "output_type": "stream",
     "text": [
      "Black-Masala-Tanddori-white-"
     ]
    }
   ],
   "source": [
    "for tea in tea_varitiy:\n",
    "    print(tea, end=\"-\")"
   ]
  },
  {
   "cell_type": "code",
   "execution_count": 266,
   "metadata": {},
   "outputs": [
    {
     "name": "stdout",
     "output_type": "stream",
     "text": [
      "I have Masala tea\n"
     ]
    }
   ],
   "source": [
    "if \"Masala\" in tea_varitiy:\n",
    "    print(\"I have Masala tea\")"
   ]
  },
  {
   "cell_type": "code",
   "execution_count": 268,
   "metadata": {},
   "outputs": [],
   "source": [
    "if \"Oolang\" in tea_varitiy:\n",
    "    print(\"I have Oolang tea\")"
   ]
  },
  {
   "cell_type": "code",
   "execution_count": 270,
   "metadata": {},
   "outputs": [
    {
     "name": "stdout",
     "output_type": "stream",
     "text": [
      "I have Oolang tea\n"
     ]
    }
   ],
   "source": [
    "tea_varitiy.append(\"Oolang\")\n",
    "if \"Oolang\" in tea_varitiy:\n",
    "    print(\"I have Oolang tea\")"
   ]
  },
  {
   "cell_type": "code",
   "execution_count": 279,
   "metadata": {},
   "outputs": [
    {
     "name": "stdout",
     "output_type": "stream",
     "text": [
      "['Black', 'Masala', 'Tanddori']\n"
     ]
    }
   ],
   "source": [
    "tea_varitiy=['Black', 'Masala', 'Tanddori', 'white']\n",
    "tea_varitiy.pop()\n",
    "print(tea_varitiy)"
   ]
  },
  {
   "cell_type": "code",
   "execution_count": 289,
   "metadata": {},
   "outputs": [
    {
     "name": "stdout",
     "output_type": "stream",
     "text": [
      "['Black', 'Tanddori', 'white']\n"
     ]
    }
   ],
   "source": [
    "tea_varitiy=['Black', 'Masala', 'Tanddori', 'white']\n",
    "tea_varitiy.remove(\"Masala\")\n",
    "print(tea_varitiy)\n"
   ]
  },
  {
   "cell_type": "code",
   "execution_count": 290,
   "metadata": {},
   "outputs": [
    {
     "name": "stdout",
     "output_type": "stream",
     "text": [
      "['Black', 'Masala', 'Tanddori', 'white']\n"
     ]
    }
   ],
   "source": [
    "tea_varitiy.insert(1,\"Masala\")\n",
    "print(tea_varitiy)\n",
    "\n"
   ]
  },
  {
   "cell_type": "code",
   "execution_count": 292,
   "metadata": {},
   "outputs": [
    {
     "name": "stdout",
     "output_type": "stream",
     "text": [
      "1872620049792\n",
      "1872620049792\n"
     ]
    }
   ],
   "source": [
    "tea_varitiy_copy=tea_varitiy\n",
    "print(id(tea_varitiy))\n",
    "print(id(tea_varitiy_copy))"
   ]
  },
  {
   "cell_type": "code",
   "execution_count": 293,
   "metadata": {},
   "outputs": [
    {
     "name": "stdout",
     "output_type": "stream",
     "text": [
      "1872620049792\n",
      "1872621501056\n"
     ]
    }
   ],
   "source": [
    "tea_varitiy_copy2=tea_varitiy.copy()\n",
    "print(id(tea_varitiy))\n",
    "print(id(tea_varitiy_copy2))"
   ]
  },
  {
   "cell_type": "code",
   "execution_count": 295,
   "metadata": {},
   "outputs": [
    {
     "name": "stdout",
     "output_type": "stream",
     "text": [
      "[0, 1, 4, 9, 16, 25, 36, 49, 64, 81]\n"
     ]
    }
   ],
   "source": [
    "squared_nums = [x**2 for x in range(10)]\n",
    "print(squared_nums)"
   ]
  },
  {
   "cell_type": "markdown",
   "metadata": {},
   "source": [
    "Dictionary"
   ]
  },
  {
   "cell_type": "code",
   "execution_count": 310,
   "metadata": {},
   "outputs": [
    {
     "name": "stdout",
     "output_type": "stream",
     "text": [
      "{'Masala Chai': 'Spicy', 'Ginger Chai': 'Zesty', 'Green Chai': 'Mild'}\n",
      "Spicy\n",
      "Zesty\n",
      "None\n",
      "{'Masala Chai': 'Spicy', 'Ginger Chai': 'Zesty', 'Green Chai': 'Mild', 'Green': 'Fresh'}\n",
      "{'Masala Chai': 'Spicy', 'Ginger Chai': 'Zesty', 'Green Chai': 'Mild', 'Green': 'Fresh Two'}\n"
     ]
    }
   ],
   "source": [
    "chai_types = {\"Masala Chai\":\"Spicy\",\"Ginger Chai\":\"Zesty\",\"Green Chai\":\"Mild\"}\n",
    "print(chai_types)\n",
    "print(chai_types[\"Masala Chai\"])\n",
    "# print(chai_types[\"Masala hai\"]) shows erroe if key is wrong\n",
    "print(chai_types.get(\"Ginger Chai\"))\n",
    "print(chai_types.get(\"Ginger Chaia\")) #shows none if key is wrong\n",
    "chai_types[\"Green\"] = \"Fresh\" # creates new\n",
    "print(chai_types)\n",
    "chai_types[\"Green\"] = \"Fresh Two\" #replaces if key already exists\n",
    "print(chai_types)\n",
    "\n"
   ]
  },
  {
   "cell_type": "code",
   "execution_count": 311,
   "metadata": {},
   "outputs": [
    {
     "name": "stdout",
     "output_type": "stream",
     "text": [
      "Masala Chai\n",
      "Ginger Chai\n",
      "Green Chai\n",
      "Green\n"
     ]
    }
   ],
   "source": [
    "for chai in chai_types:\n",
    "    print(chai)"
   ]
  },
  {
   "cell_type": "markdown",
   "metadata": {},
   "source": [
    "tp rint along with values"
   ]
  },
  {
   "cell_type": "code",
   "execution_count": 314,
   "metadata": {},
   "outputs": [
    {
     "name": "stdout",
     "output_type": "stream",
     "text": [
      "Masala Chai Spicy\n",
      "Ginger Chai Zesty\n",
      "Green Chai Mild\n",
      "Green Fresh Two\n"
     ]
    }
   ],
   "source": [
    "for chai in chai_types:\n",
    "    print(chai,  chai_types[chai])"
   ]
  },
  {
   "cell_type": "markdown",
   "metadata": {},
   "source": [
    "both key and value are one item in dictionary"
   ]
  },
  {
   "cell_type": "code",
   "execution_count": 322,
   "metadata": {},
   "outputs": [
    {
     "name": "stdout",
     "output_type": "stream",
     "text": [
      "Masala Chai Spicy\n",
      "Masala Chai\n",
      "Spicy\n",
      "Ginger Chai Zesty\n",
      "Ginger Chai\n",
      "Zesty\n",
      "Green Chai Mild\n",
      "Green Chai\n",
      "Mild\n",
      "Green Fresh Two\n",
      "Green\n",
      "Fresh Two\n"
     ]
    }
   ],
   "source": [
    "for key, value in chai_types.items():\n",
    "    print(key, value)\n",
    "    print(key)\n",
    "    print(value)"
   ]
  },
  {
   "cell_type": "code",
   "execution_count": 327,
   "metadata": {},
   "outputs": [
    {
     "name": "stdout",
     "output_type": "stream",
     "text": [
      "masala is there\n"
     ]
    }
   ],
   "source": [
    "if \"Masala Chai\" in chai_types:\n",
    "    print(\"masala is there\")"
   ]
  },
  {
   "cell_type": "code",
   "execution_count": 329,
   "metadata": {},
   "outputs": [],
   "source": [
    "if \"Masala\" in chai_types:\n",
    "    print(\"masala\")"
   ]
  },
  {
   "cell_type": "code",
   "execution_count": 340,
   "metadata": {},
   "outputs": [
    {
     "name": "stdout",
     "output_type": "stream",
     "text": [
      "{'Masala Chai': 'Spicy', 'Ginger Chai': 'Zesty', 'Green Chai': 'Mild'}\n",
      "-----add yellow---------\n",
      "{'Masala Chai': 'Spicy', 'Ginger Chai': 'Zesty', 'Green Chai': 'Mild', 'yellow': 'color'}\n",
      "-----pop yellow---------\n",
      "{'Masala Chai': 'Spicy', 'Ginger Chai': 'Zesty', 'Green Chai': 'Mild'}\n",
      "-----popitem---------\n",
      "{'Masala Chai': 'Spicy', 'Ginger Chai': 'Zesty'}\n"
     ]
    }
   ],
   "source": [
    "chai_types = {\"Masala Chai\":\"Spicy\",\"Ginger Chai\":\"Zesty\",\"Green Chai\":\"Mild\"}\n",
    "print(chai_types)\n",
    "print(\"-----add yellow---------\")\n",
    "chai_types[\"yellow\"] = \"color\"\n",
    "print(chai_types)\n",
    "print(\"-----pop yellow---------\")\n",
    "chai_types.pop(\"yellow\") #we have to give atleast one key argument in dictinary to remove an item\n",
    "print(chai_types)\n",
    "print(\"-----popitem---------\")\n",
    "chai_types.popitem() #remove last item\n",
    "print(chai_types)\n",
    "\n",
    "\n",
    "\n",
    "\n",
    "\n"
   ]
  },
  {
   "cell_type": "markdown",
   "metadata": {},
   "source": [
    "Delete can be used anywhere but it also removes from memory"
   ]
  },
  {
   "cell_type": "code",
   "execution_count": 342,
   "metadata": {},
   "outputs": [
    {
     "name": "stdout",
     "output_type": "stream",
     "text": [
      "{'Masala Chai': 'Spicy'}\n"
     ]
    }
   ],
   "source": [
    "del chai_types[\"Ginger Chai\"]\n",
    "print(chai_types)"
   ]
  },
  {
   "cell_type": "markdown",
   "metadata": {},
   "source": [
    "dictionary in dictionary"
   ]
  },
  {
   "cell_type": "code",
   "execution_count": 348,
   "metadata": {},
   "outputs": [
    {
     "name": "stdout",
     "output_type": "stream",
     "text": [
      "{'chai': {'Masala': 'Spicy', 'Ginger': 'Zesty'}, 'Tea': {'Green': 'Mild', 'Black': 'Strong'}}\n"
     ]
    },
    {
     "data": {
      "text/plain": [
       "'Zesty'"
      ]
     },
     "execution_count": 348,
     "metadata": {},
     "output_type": "execute_result"
    }
   ],
   "source": [
    "tea_shop = {\n",
    "    \"chai\": {\"Masala\":\"Spicy\",\"Ginger\":\"Zesty\"},\n",
    "    \"Tea\" : {\"Green\": \"Mild\",\"Black\":\"Strong\"}\n",
    "        }\n",
    "print(tea_shop)\n",
    "tea_shop[\"chai\"]\n",
    "tea_shop[\"chai\"][\"Ginger\"]\n"
   ]
  },
  {
   "cell_type": "code",
   "execution_count": 349,
   "metadata": {},
   "outputs": [
    {
     "name": "stdout",
     "output_type": "stream",
     "text": [
      "{0: 0, 1: 1, 2: 4, 3: 9, 4: 16, 5: 25}\n"
     ]
    }
   ],
   "source": [
    "square_nums={x:x**2 for x in range(6)}\n",
    "print(square_nums)"
   ]
  },
  {
   "cell_type": "code",
   "execution_count": 354,
   "metadata": {},
   "outputs": [
    {
     "name": "stdout",
     "output_type": "stream",
     "text": [
      "['Masala', 'Ginger', 'Lemon']\n",
      "{'Masala': ['Masala', 'Ginger', 'Lemon'], 'Ginger': ['Masala', 'Ginger', 'Lemon'], 'Lemon': ['Masala', 'Ginger', 'Lemon']}\n"
     ]
    }
   ],
   "source": [
    "keys=[\"Masala\",\"Ginger\",\"Lemon\"]\n",
    "print(keys)\n",
    "default_value = \"Delicious\"\n",
    "new_dict = dict.fromkeys(keys, default_value)\n",
    "\n",
    "new_dict2 = dict.fromkeys(keys, keys)\n",
    "print(new_dict2)"
   ]
  },
  {
   "cell_type": "code",
   "execution_count": 357,
   "metadata": {},
   "outputs": [
    {
     "name": "stdout",
     "output_type": "stream",
     "text": [
      "Yellow\n",
      "('Green', 'Yellow')\n"
     ]
    },
    {
     "data": {
      "text/plain": [
       "'Black'"
      ]
     },
     "execution_count": 357,
     "metadata": {},
     "output_type": "execute_result"
    }
   ],
   "source": [
    "#tuples\n",
    "tea_types = (\"Black\",\"Green\",\"Yellow\" )\n",
    "print(tea_types[-1])\n",
    "print(tea_types[1:])\n",
    "tea_types[0]"
   ]
  },
  {
   "cell_type": "code",
   "execution_count": 358,
   "metadata": {},
   "outputs": [
    {
     "ename": "TypeError",
     "evalue": "'tuple' object does not support item assignment",
     "output_type": "error",
     "traceback": [
      "\u001b[1;31m---------------------------------------------------------------------------\u001b[0m",
      "\u001b[1;31mTypeError\u001b[0m                                 Traceback (most recent call last)",
      "Cell \u001b[1;32mIn[358], line 1\u001b[0m\n\u001b[1;32m----> 1\u001b[0m \u001b[43mtea_types\u001b[49m\u001b[43m[\u001b[49m\u001b[38;5;241;43m0\u001b[39;49m\u001b[43m]\u001b[49m \u001b[38;5;241m=\u001b[39m \u001b[38;5;124m\"\u001b[39m\u001b[38;5;124mwhite\u001b[39m\u001b[38;5;124m\"\u001b[39m\n\u001b[0;32m      2\u001b[0m \u001b[38;5;28mprint\u001b[39m(tea_types)\n",
      "\u001b[1;31mTypeError\u001b[0m: 'tuple' object does not support item assignment"
     ]
    }
   ],
   "source": [
    "tea_types[0] = \"white\"\n",
    "print(tea_types)"
   ]
  },
  {
   "cell_type": "code",
   "execution_count": 359,
   "metadata": {},
   "outputs": [
    {
     "data": {
      "text/plain": [
       "3"
      ]
     },
     "execution_count": 359,
     "metadata": {},
     "output_type": "execute_result"
    }
   ],
   "source": [
    "len(tea_types)"
   ]
  },
  {
   "cell_type": "code",
   "execution_count": 363,
   "metadata": {},
   "outputs": [],
   "source": [
    "more_tea= (\"Herbal\",\"Earl grey\",\"Green\")"
   ]
  },
  {
   "cell_type": "code",
   "execution_count": 364,
   "metadata": {},
   "outputs": [
    {
     "name": "stdout",
     "output_type": "stream",
     "text": [
      "('Black', 'Green', 'Yellow', 'Herbal', 'Earl grey', 'Green')\n"
     ]
    }
   ],
   "source": [
    "all_tea = tea_types + more_tea\n",
    "print(all_tea)"
   ]
  },
  {
   "cell_type": "code",
   "execution_count": 365,
   "metadata": {},
   "outputs": [
    {
     "name": "stdout",
     "output_type": "stream",
     "text": [
      "yes its there greem tea\n"
     ]
    }
   ],
   "source": [
    "if \"Green\" in all_tea:\n",
    "    print(\"yes its there greem tea\")"
   ]
  },
  {
   "cell_type": "code",
   "execution_count": 367,
   "metadata": {},
   "outputs": [
    {
     "data": {
      "text/plain": [
       "2"
      ]
     },
     "execution_count": 367,
     "metadata": {},
     "output_type": "execute_result"
    }
   ],
   "source": [
    "all_tea.count(\"Green\")"
   ]
  },
  {
   "cell_type": "code",
   "execution_count": 368,
   "metadata": {},
   "outputs": [
    {
     "name": "stdout",
     "output_type": "stream",
     "text": [
      "('Black', 'Green', 'Yellow')\n"
     ]
    }
   ],
   "source": [
    "print(tea_types)"
   ]
  },
  {
   "cell_type": "markdown",
   "metadata": {},
   "source": [
    "unwrap tuples \n",
    "Variable Naming:\n",
    "\n",
    "In Python, variable names are case-sensitive. So black, green, and Oolong are different from Black, Green, and Yellow.\n",
    "Tuple Unpacking:\n",
    "\n",
    "When unpacking a tuple into variables, the number of variables on the left-hand side of the assignment must match the number of elements in the tuple on the right-hand side.\n"
   ]
  },
  {
   "cell_type": "code",
   "execution_count": 369,
   "metadata": {},
   "outputs": [],
   "source": [
    "(black,green,Oolong) = tea_types"
   ]
  },
  {
   "cell_type": "code",
   "execution_count": 373,
   "metadata": {},
   "outputs": [
    {
     "name": "stdout",
     "output_type": "stream",
     "text": [
      "Black\n",
      "Green\n"
     ]
    },
    {
     "data": {
      "text/plain": [
       "tuple"
      ]
     },
     "execution_count": 373,
     "metadata": {},
     "output_type": "execute_result"
    }
   ],
   "source": [
    "print(black)\n",
    "print(tea_types[1])\n",
    "type(tea_types)"
   ]
  },
  {
   "cell_type": "markdown",
   "metadata": {},
   "source": [
    "nesting tupes"
   ]
  },
  {
   "cell_type": "code",
   "execution_count": 374,
   "metadata": {},
   "outputs": [],
   "source": [
    "person = ('John', ('USA', 'New York'), 30)\n"
   ]
  },
  {
   "cell_type": "code",
   "execution_count": 385,
   "metadata": {},
   "outputs": [
    {
     "name": "stdout",
     "output_type": "stream",
     "text": [
      "Wednesday\n"
     ]
    }
   ],
   "source": [
    "days = [\"Monday\",\"Wednesday\"]\n",
    "day = random.choice(days)\n",
    "print(day)"
   ]
  },
  {
   "cell_type": "code",
   "execution_count": null,
   "metadata": {},
   "outputs": [],
   "source": [
    "iteration tool = (for, comprehension)"
   ]
  },
  {
   "cell_type": "code",
   "execution_count": 393,
   "metadata": {},
   "outputs": [
    {
     "name": "stdout",
     "output_type": "stream",
     "text": [
      "import time\n",
      "\n",
      "print(\"Chai is here\")\n",
      "\n",
      "username = \"hitesh\"\n",
      "\n",
      "print(username)\n"
     ]
    }
   ],
   "source": [
    "f = open('../04_iterations/chai.py')\n",
    "print(f.readline())\n",
    "print(f.readline())\n",
    "print(f.readline())\n",
    "print(f.readline())"
   ]
  },
  {
   "cell_type": "code",
   "execution_count": 394,
   "metadata": {},
   "outputs": [
    {
     "name": "stdout",
     "output_type": "stream",
     "text": [
      "import time\n",
      "\n",
      "print(\"Chai is here\")\n",
      "\n",
      "username = \"hitesh\"\n",
      "\n",
      "print(username)\n"
     ]
    }
   ],
   "source": [
    "f = open('../04_iterations/chai.py')\n",
    "print(f.__next__())\n",
    "print(f.__next__())\n",
    "print(f.__next__())\n",
    "print(f.__next__())"
   ]
  },
  {
   "cell_type": "code",
   "execution_count": null,
   "metadata": {},
   "outputs": [],
   "source": [
    "f = open('../04_iterations/chai.py')\n",
    "print(f.__next__())\n",
    "print(f.__next__())\n",
    "print(f.__next__())\n",
    "print(f.__next__())"
   ]
  },
  {
   "cell_type": "code",
   "execution_count": 396,
   "metadata": {},
   "outputs": [
    {
     "name": "stdout",
     "output_type": "stream",
     "text": [
      "import time\n",
      "print(\"Chai is here\")\n",
      "username = \"hitesh\"\n",
      "print(username)"
     ]
    }
   ],
   "source": [
    "for line in open('../04_iterations/chai.py'):\n",
    "    print(line, end=\"\")"
   ]
  },
  {
   "cell_type": "code",
   "execution_count": 397,
   "metadata": {},
   "outputs": [
    {
     "name": "stdout",
     "output_type": "stream",
     "text": [
      "import time\n",
      "print(\"Chai is here\")\n",
      "username = \"hitesh\"\n",
      "print(username)"
     ]
    }
   ],
   "source": [
    "f = open('../04_iterations/chai.py')\n",
    "while True:\n",
    "    line = f.readline()\n",
    "    if not line: break\n",
    "    print(line, end=\"\")"
   ]
  },
  {
   "cell_type": "code",
   "execution_count": null,
   "metadata": {},
   "outputs": [],
   "source": [
    "test=\"\"\n",
    "if not test:\n",
    "    print(\"not there\")"
   ]
  }
 ],
 "metadata": {
  "kernelspec": {
   "display_name": "Python 3",
   "language": "python",
   "name": "python3"
  },
  "language_info": {
   "codemirror_mode": {
    "name": "ipython",
    "version": 3
   },
   "file_extension": ".py",
   "mimetype": "text/x-python",
   "name": "python",
   "nbconvert_exporter": "python",
   "pygments_lexer": "ipython3",
   "version": "3.12.4"
  }
 },
 "nbformat": 4,
 "nbformat_minor": 2
}
